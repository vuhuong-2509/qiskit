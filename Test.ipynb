from qiskit_aer import AerSimulator, Aer
from qiskit import QuantumCircuit, transpile, assemble
import matplotlib.pyplot as plt
from qiskit import QuantumCircuit
from qiskit.quantum_info import SparsePauliOp
from qiskit.transpiler.preset_passmanagers import generate_preset_pass_manager
from qiskit_ibm_runtime import EstimatorV2 as Estimator
from qiskit.visualization import plot_histogram
from qiskit import QuantumCircuit
import numpy as np
import math
def expzz(cir,cq,tq):
    cir.cx(cq,tq)
    cir.rz(0.5,tq)
    cir.cx(cq,tq)
expzz(zz,0,1)
zz.draw('mpl')
def expxx(cir,cq,tq):
    cir.h(cq)
    cir.h(tq)
    cir.cx(cq,tq)
    cir.rz(0.5,tq)
    cir.cx(cq,tq)
    cir.h(cq)
    cir.h(tq)

expxx(xx,0,1)
xx.draw('mpl')

def expyy(cir,cq,tq):
    
    cir.sdg(cq)
    cir.sdg(tq)
    cir.h(cq)
    cir.h(tq)
    cir.cx(cq,tq)
    cir.rz(0.5,1)
    cir.cx(cq,tq)
    cir.h(cq)
    cir.h(tq)
    cir.s(cq)
    cir.s(tq)

expyy(expyy,0,1)
expyy.draw('mpl')

a= math.pi
def expxxyyzz(cir,cq,tq,a):
    cir.cx(cq,tq)
    cir.rx(a/2, cq)
    cir.rz(0.5, tq)
    cir.h(cq)
    cir.cx(cq,tq)
    cir.h(cq)
    cir.s(cq)    
    cir.rz(-0.5, tq)
    cir.cx(cq,tq)
    cir.rx(a/2, cq)
    cir.rx(-a/2, tq)

expxxyyzz(xxyyzz, 0, 1, a)
xxyyzz.draw('mpl')

from qiskit.quantum_info import SparsePauliOp
import numpy as np

# Giá trị của θ
theta = np.pi / 4  

# Định nghĩa Hamiltonian H_I
HI = SparsePauliOp(["IX", "IX", "IZ", "IZ"],
                   coeffs=[0.5 * np.sin(theta), 0.5 * 2 * np.sin(theta),
                           -0.5 * np.cos(theta), -0.5 * 2 * np.cos(theta)])

# Định nghĩa Hamiltonian H_D
HD = SparsePauliOp(["XX", "YY", "ZZ"],
                   coeffs=[0.5, 0.5, 0.5])

Hamiltonian = HI + HD
# Hiển thị Hamiltonian
print("Hamiltonian H_I:", HI)
print("Hamiltonian H_D:", HD)
print(Hamiltonian)
