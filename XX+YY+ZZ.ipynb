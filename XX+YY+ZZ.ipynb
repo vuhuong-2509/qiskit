{
 "cells": [
  {
   "cell_type": "code",
   "execution_count": 1,
   "id": "5ea78b0b-a471-4b23-a16d-004ed450501e",
   "metadata": {},
   "outputs": [],
   "source": [
    "\n",
    "# Import các thư viện\n",
    "from qiskit_aer import Aer\n",
    "from qiskit import QuantumCircuit, transpile, assemble\n",
    "import matplotlib.pyplot as plt"
   ]
  },
  {
   "cell_type": "code",
   "execution_count": 3,
   "id": "e72faac7-71d5-48d7-8447-e1794836336a",
   "metadata": {},
   "outputs": [],
   "source": [
    "# Tạo một mạch lượng tử với 1 qubit\n",
    "qc = QuantumCircuit(1, 1)\n",
    "\n",
    "# Áp dụng cổng S vào qubit 0\n",
    "qc.s(0)\n",
    "\n",
    "# Áp dụng cổng S+ (S cộng ngược, hay Sdg) vào qubit 0\n",
    "qc.sdg(0)\n",
    "\n",
    "# Thêm cổng đo lường\n",
    "qc.measure(0, 0)\n",
    "\n",
    "# Vẽ mạch\n",
    "qc.draw('mpl')\n",
    "plt.show()\n"
   ]
  },
  {
   "cell_type": "code",
   "execution_count": null,
   "id": "64745cc2-461b-411a-a763-d276bed5c3c5",
   "metadata": {},
   "outputs": [],
   "source": []
  }
 ],
 "metadata": {
  "kernelspec": {
   "display_name": "Python 3 (ipykernel)",
   "language": "python",
   "name": "python3"
  },
  "language_info": {
   "codemirror_mode": {
    "name": "ipython",
    "version": 3
   },
   "file_extension": ".py",
   "mimetype": "text/x-python",
   "name": "python",
   "nbconvert_exporter": "python",
   "pygments_lexer": "ipython3",
   "version": "3.10.14"
  }
 },
 "nbformat": 4,
 "nbformat_minor": 5
}
