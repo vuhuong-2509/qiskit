{
 "cells": [
  {
   "cell_type": "code",
   "execution_count": 90,
   "id": "5ea78b0b-a471-4b23-a16d-004ed450501e",
   "metadata": {},
   "outputs": [],
   "source": [
    "\n",
    "# Import các thư viện\n",
    "from qiskit_aer import AerSimulator\n",
    "from qiskit import QuantumCircuit, transpile, assemble\n",
    "import matplotlib.pyplot as plt\n",
    "from qiskit import QuantumCircuit\n",
    "from qiskit.quantum_info import SparsePauliOp\n",
    "from qiskit.transpiler.preset_passmanagers import generate_preset_pass_manager\n",
    "from qiskit_ibm_runtime import EstimatorV2 as Estimator\n",
    "from qiskit.visualization import plot_histogram\n",
    "import math"
   ]
  },
  {
   "cell_type": "code",
   "execution_count": 91,
   "id": "e72faac7-71d5-48d7-8447-e1794836336a",
   "metadata": {},
   "outputs": [],
   "source": [
    "# Tạo một mạch lượng tử với 2 qubit\n",
    "qc = QuantumCircuit(2, 2)\n",
    "\n",
    "# Thay thế giá trị này bằng giá trị thực của mu' * Delta\n",
    "mu_prime_delta = 1.0\n",
    "\n",
    "# Thay thế giá trị này bằng giá trị thực của a\n",
    "a = math.pi  # Pi\n",
    "#cổng S\n",
    "qc.sdg(0)\n",
    "\n",
    "#cổng S\n",
    "qc.sdg(1)\n",
    "\n",
    "#cổng H\n",
    "qc.h(0)\n",
    "\n",
    "#cổng H\n",
    "qc.h(1)\n",
    "\n",
    "#cổng CNOT \n",
    "qc.cx(0,1)\n",
    "\n",
    "#côngRz\n",
    "qc.rz(mu_prime_delta,1)\n",
    "\n",
    "#cổng CNOT\n",
    "qc.cx(0,1)\n",
    "\n",
    "#cổng H\n",
    "qc.h(0)\n",
    "\n",
    "#cổng H\n",
    "qc.h(1)\n",
    "\n",
    "#cổng S\n",
    "qc.s(0)\n",
    "\n",
    "#cổng S\n",
    "qc.s(1)\n",
    "\n",
    "# Thêm cổng đo lường\n",
    "qc.measure(0, 0)\n",
    "\n",
    "# Vẽ mạch\n",
    "\n",
    "qc.draw('mpl')\n",
    "plt.show()\n"
   ]
  },
  {
   "cell_type": "code",
   "execution_count": 92,
   "id": "7d92c10f",
   "metadata": {},
   "outputs": [],
   "source": [
    "# Thực hiện mạch lượng tử\n",
    "simulator = AerSimulator()\n",
    "compiled_circuit = transpile(qc, simulator)\n",
    "job = simulator.run(compiled_circuit, shots=1024)\n",
    "result = job.result()\n",
    "\n",
    "# Lấy kết quả đo\n",
    "counts = result.get_counts(qc)\n",
    "\n",
    "# Vẽ histogram của kết quả đo\n",
    "pl= plot_histogram(counts)\n",
    "plt.show()"
   ]
  },
  {
   "cell_type": "code",
   "execution_count": 93,
   "id": "9d4feb2e",
   "metadata": {},
   "outputs": [],
   "source": [
    "\n",
    "# Thiết lập trạng thái ban đầu\n",
    "initial_state = '0'  # Thay đổi thành '0', '1', '+', hoặc '-' để thiết lập trạng thái ban đầu khác\n",
    "\n",
    "# Chạy mạch với trạng thái ban đầu cụ thể\n",
    "run_quantum_circuit(initial_state)"
   ]
  }
 ],
 "metadata": {
  "kernelspec": {
   "display_name": "Python 3 (ipykernel)",
   "language": "python",
   "name": "python3"
  },
  "language_info": {
   "codemirror_mode": {
    "name": "ipython",
    "version": 3
   },
   "file_extension": ".py",
   "mimetype": "text/x-python",
   "name": "python",
   "nbconvert_exporter": "python",
   "pygments_lexer": "ipython3",
   "version": "3.10.14"
  }
 },
 "nbformat": 4,
 "nbformat_minor": 5
}
